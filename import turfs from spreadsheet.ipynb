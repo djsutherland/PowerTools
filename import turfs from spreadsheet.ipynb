{
 "metadata": {
  "name": "",
  "signature": "sha256:58a58381412fa627ace92c1cc728563336a5bbf9afc48a6d97ead9e4e21ae5f8"
 },
 "nbformat": 3,
 "nbformat_minor": 0,
 "worksheets": [
  {
   "cells": [
    {
     "cell_type": "code",
     "collapsed": false,
     "input": [
      "from server import connect_db\n",
      "db = connect_db()"
     ],
     "language": "python",
     "metadata": {},
     "outputs": [],
     "prompt_number": 1
    },
    {
     "cell_type": "code",
     "collapsed": false,
     "input": [
      "import csv\n",
      "with open('/Users/dougal/Downloads/PTV Forums Shows - Sheet 1.csv', 'rb') as f:\n",
      "    f.readline()\n",
      "    reader = csv.DictReader(f)\n",
      "    vals = list(reader)"
     ],
     "language": "python",
     "metadata": {},
     "outputs": [],
     "prompt_number": 2
    },
    {
     "cell_type": "code",
     "collapsed": false,
     "input": [
      "assert reader._fieldnames[4] == 'Dougal'\n",
      "mods = frozenset(reader._fieldnames[4:])"
     ],
     "language": "python",
     "metadata": {},
     "outputs": [],
     "prompt_number": 5
    },
    {
     "cell_type": "code",
     "collapsed": false,
     "input": [
      "db.executemany('INSERT INTO mods (name) VALUES (?)', [[name] for name in mods])\n",
      "db.commit()"
     ],
     "language": "python",
     "metadata": {},
     "outputs": [
      {
       "metadata": {},
       "output_type": "pyout",
       "prompt_number": 6,
       "text": [
        "<sqlite3.Cursor at 0x10673a960>"
       ]
      }
     ],
     "prompt_number": 6
    },
    {
     "cell_type": "code",
     "collapsed": false,
     "input": [
      "states = {\n",
      "    'got it': 'g',\n",
      "    'got it!': 'g',\n",
      "    'would like': 'g',\n",
      "    'can take': 'c',\n",
      "}\n",
      "turfs = []\n",
      "for row in vals:\n",
      "    for name, val in row.iteritems():\n",
      "        if name in mods and val:\n",
      "            state = states.get(val.strip().lower(), '???')\n",
      "            try:\n",
      "                showid = db.execute('SELECT id FROM shows WHERE forum_url=?', [row['Show Name']]).fetchone()['id']\n",
      "            except TypeError:\n",
      "                print row['Show Name']\n",
      "                continue\n",
      "            modid = db.execute('SELECT id FROM mods WHERE name=?', [name]).fetchone()['id']\n",
      "            db.execute('INSERT OR REPLACE INTO turfs (showid, modid, state, comments) VALUES (?, ?, ?, ?)',\n",
      "                       [showid, modid, state, val if state == '???' else ''])"
     ],
     "language": "python",
     "metadata": {},
     "outputs": [
      {
       "output_type": "stream",
       "stream": "stdout",
       "text": [
        "http://forums.previously.tv/forum/56-books/\n",
        "http://forums.previously.tv/forum/56-books/\n",
        "http://forums.previously.tv/forum/161-comic-books/\n",
        "http://forums.previously.tv/forum/485-commercials/\n",
        "http://forums.previously.tv/forum/336-everything-else-tv/"
       ]
      },
      {
       "output_type": "stream",
       "stream": "stdout",
       "text": [
        "\n",
        "http://forums.previously.tv/forum/336-everything-else-tv/\n",
        "http://forums.previously.tv/forum/170-extra-hot-great/\n",
        "http://forums.previously.tv/forum/170-extra-hot-great/\n",
        "http://forums.previously.tv/forum/170-extra-hot-great/\n",
        "http://forums.previously.tv/forum/581-million-dollar-listing-la/"
       ]
      },
      {
       "output_type": "stream",
       "stream": "stdout",
       "text": [
        "\n",
        "http://forums.previously.tv/forum/373-million-dollar-listing-ny/\n",
        "http://forums.previously.tv/forum/55-movies/\n",
        "http://forums.previously.tv/forum/57-music/\n",
        "http://forums.previously.tv/forum/169-online/\n",
        "http://forums.previously.tv/forum/482-semi-homemade-cooking-with-sandra-lee/"
       ]
      },
      {
       "output_type": "stream",
       "stream": "stdout",
       "text": [
        "\n"
       ]
      }
     ],
     "prompt_number": 16
    },
    {
     "cell_type": "code",
     "collapsed": false,
     "input": [
      "db.commit()"
     ],
     "language": "python",
     "metadata": {},
     "outputs": [],
     "prompt_number": 17
    }
   ],
   "metadata": {}
  }
 ]
}